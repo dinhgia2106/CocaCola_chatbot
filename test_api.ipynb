{
 "cells": [
  {
   "cell_type": "code",
   "execution_count": 2,
   "id": "7ee2570f",
   "metadata": {},
   "outputs": [
    {
     "name": "stdout",
     "output_type": "stream",
     "text": [
      "Nước bão hòa CO₂, đường HFCS, đường mía, màu tự nhiên (150d), chất điều chỉnh độ acid (338), hương liệu tự nhiên, caffeine.\n"
     ]
    }
   ],
   "source": [
    "import requests\n",
    "\n",
    "response = requests.post('https://0c7794fa189d.ngrok-free.app/api/chat', json={\n",
    "    'message': 'Thành phần của Coca-Cola Original là gì?'\n",
    "})\n",
    "\n",
    "result = response.json()\n",
    "print(result['response'])"
   ]
  }
 ],
 "metadata": {
  "kernelspec": {
   "display_name": "AI",
   "language": "python",
   "name": "python3"
  },
  "language_info": {
   "codemirror_mode": {
    "name": "ipython",
    "version": 3
   },
   "file_extension": ".py",
   "mimetype": "text/x-python",
   "name": "python",
   "nbconvert_exporter": "python",
   "pygments_lexer": "ipython3",
   "version": "3.12.3"
  }
 },
 "nbformat": 4,
 "nbformat_minor": 5
}
